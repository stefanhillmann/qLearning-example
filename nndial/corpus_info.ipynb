{
 "cells": [
  {
   "cell_type": "code",
   "execution_count": 1,
   "metadata": {
    "collapsed": true,
    "deletable": true,
    "editable": true
   },
   "outputs": [],
   "source": [
    "from pymongo import MongoClient\n",
    "\n",
    "# connect to database and collection\n",
    "mc = MongoClient()\n",
    "db = mc['nn_on_dialogues']\n",
    "coll_dialogues = db['dialogues']"
   ]
  },
  {
   "cell_type": "markdown",
   "metadata": {},
   "source": [
    "# Dialogue Act Types"
   ]
  },
  {
   "cell_type": "markdown",
   "metadata": {},
   "source": [
    "## User Acts"
   ]
  },
  {
   "cell_type": "code",
   "execution_count": 2,
   "metadata": {
    "collapsed": false,
    "deletable": true,
    "editable": true,
    "scrolled": true
   },
   "outputs": [
    {
     "name": "stdout",
     "output_type": "stream",
     "text": [
      "6 user dialogue act types: {'', 'affirm', 'neglect', 'provide', 'negate', 'accept'}\n",
      "\n"
     ]
    }
   ],
   "source": [
    "# Get all unique user dialogue act types\n",
    "user_dats = set()\n",
    "for user_sa in coll_dialogues.distinct(\"userSA\"):\n",
    "    user_dats.update(user_sa.strip().split(' '))\n",
    "\n",
    "print('{0} user dialogue act types: {1}\\n'.format(len(user_dats), user_dats))"
   ]
  },
  {
   "cell_type": "markdown",
   "metadata": {},
   "source": [
    "## System Acts"
   ]
  },
  {
   "cell_type": "code",
   "execution_count": 3,
   "metadata": {
    "collapsed": false
   },
   "outputs": [
    {
     "name": "stdout",
     "output_type": "stream",
     "text": [
      "11 system dialogue act types: {'explConfirm', 'informAndOfferMore', 'repetitionRequest', 'indicateValues1', 'request', 'inform', 'bye', 'offerRefinement', 'offerModification', 'indicateValues', 'indicateValues2'}\n",
      "\n"
     ]
    }
   ],
   "source": [
    "sys_dats = set()\n",
    "for sys_sa in coll_dialogues.distinct(\"sysSA\"):\n",
    "    sys_dats.update(sys_sa.strip().split(' '))\n",
    "\n",
    "print('{0} system dialogue act types: {1}\\n'.format(len(sys_dats), sys_dats))"
   ]
  },
  {
   "cell_type": "markdown",
   "metadata": {},
   "source": [
    "## All Acts"
   ]
  },
  {
   "cell_type": "code",
   "execution_count": 4,
   "metadata": {
    "collapsed": false
   },
   "outputs": [
    {
     "name": "stdout",
     "output_type": "stream",
     "text": [
      "All 17 dialogue act types: {'', 'affirm', 'repetitionRequest', 'indicateValues2', 'indicateValues1', 'provide', 'bye', 'negate', 'offerRefinement', 'offerModification', 'neglect', 'request', 'inform', 'indicateValues', 'accept', 'explConfirm', 'informAndOfferMore'}\n",
      "\n"
     ]
    }
   ],
   "source": [
    "all_dats = set()  # set to collect all dialogue act types (dats)\n",
    "all_dats.update(user_dats)\n",
    "all_dats.update(sys_dats)\n",
    "\n",
    "print('All {0} dialogue act types: {1}\\n'.format(len(all_dats), all_dats))"
   ]
  },
  {
   "cell_type": "markdown",
   "metadata": {
    "collapsed": true,
    "deletable": true,
    "editable": true
   },
   "source": [
    "# Concepts"
   ]
  },
  {
   "cell_type": "markdown",
   "metadata": {},
   "source": [
    "## User Concepts"
   ]
  },
  {
   "cell_type": "code",
   "execution_count": 5,
   "metadata": {
    "collapsed": false
   },
   "outputs": [
    {
     "name": "stdout",
     "output_type": "stream",
     "text": [
      "9 user concepts: {'', 'field', 'price', 'localization', 'action', 'foodtype', 'date', 'logical', 'time'}\n"
     ]
    }
   ],
   "source": [
    "user_concepts = set()\n",
    "for user_concept_values in coll_dialogues.distinct(\"userFields\"):\n",
    "    values = user_concept_values.strip().split(' ')\n",
    "    user_concepts.update(values)\n",
    "\n",
    "print('{0} user concepts: {1}'.format(len(user_concepts), user_concepts))"
   ]
  },
  {
   "cell_type": "markdown",
   "metadata": {},
   "source": [
    "## System Concepts"
   ]
  },
  {
   "cell_type": "code",
   "execution_count": 6,
   "metadata": {
    "collapsed": false
   },
   "outputs": [
    {
     "name": "stdout",
     "output_type": "stream",
     "text": [
      "11 user concepts: {'', 'price', 'field', 'errorMessage', 'ALL', 'localization', 'foodtype', 'bye', 'date', 'logical', 'time'}\n"
     ]
    }
   ],
   "source": [
    "sys_concepts = set()\n",
    "for sys_concept_values in coll_dialogues.distinct(\"sysRep_field\"):\n",
    "    values = sys_concept_values.strip().split(' ')\n",
    "    sys_concepts.update(values)\n",
    "\n",
    "print('{0} user concepts: {1}'.format(len(sys_concepts), sys_concepts))"
   ]
  },
  {
   "cell_type": "markdown",
   "metadata": {},
   "source": [
    "## All Concpets"
   ]
  },
  {
   "cell_type": "code",
   "execution_count": 7,
   "metadata": {
    "collapsed": false
   },
   "outputs": [
    {
     "name": "stdout",
     "output_type": "stream",
     "text": [
      "All 12 user and system concepts: {'', 'field', 'price', 'errorMessage', 'ALL', 'localization', 'action', 'foodtype', 'bye', 'date', 'logical', 'time'}\n"
     ]
    }
   ],
   "source": [
    "all_concepts = set()\n",
    "all_concepts.update(user_concepts)\n",
    "all_concepts.update(sys_concepts)\n",
    "\n",
    "print('All {0} user and system concepts: {1}'.format(len(all_concepts), all_concepts))"
   ]
  },
  {
   "cell_type": "code",
   "execution_count": null,
   "metadata": {
    "collapsed": true
   },
   "outputs": [],
   "source": []
  }
 ],
 "metadata": {
  "kernelspec": {
   "display_name": "Python 3",
   "language": "python",
   "name": "python3"
  },
  "language_info": {
   "codemirror_mode": {
    "name": "ipython",
    "version": 3
   },
   "file_extension": ".py",
   "mimetype": "text/x-python",
   "name": "python",
   "nbconvert_exporter": "python",
   "pygments_lexer": "ipython3",
   "version": "3.5.2"
  }
 },
 "nbformat": 4,
 "nbformat_minor": 0
}
